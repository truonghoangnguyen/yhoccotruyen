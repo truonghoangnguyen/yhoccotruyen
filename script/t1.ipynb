{
 "cells": [
  {
   "cell_type": "code",
   "execution_count": 1,
   "metadata": {},
   "outputs": [
    {
     "name": "stdout",
     "output_type": "stream",
     "text": [
      "Đã cập nhật xong các link trong các file Markdown.\n"
     ]
    }
   ],
   "source": [
    "import os\n",
    "import re\n",
    "\n",
    "# Đường dẫn đến thư mục chứa các file .md\n",
    "folder_path = '../docs/yhctvn'\n",
    "\n",
    "# Biểu thức chính quy để tìm kiếm và thay thế các link\n",
    "link_pattern = re.compile(r'\\]\\((/yhctvn/.+?)/\\)')\n",
    "\n",
    "def update_markdown_links(file_path):\n",
    "    # Đọc nội dung file\n",
    "    with open(file_path, 'r', encoding='utf-8') as file:\n",
    "        content = file.read()\n",
    "    \n",
    "    # Cập nhật các link\n",
    "    updated_content = re.sub(link_pattern, r'](\\1)', content)\n",
    "    \n",
    "    # Ghi lại nội dung đã cập nhật vào file\n",
    "    with open(file_path, 'w', encoding='utf-8') as file:\n",
    "        file.write(updated_content)\n",
    "\n",
    "# Duyệt qua tất cả các file trong thư mục\n",
    "for root, dirs, files in os.walk(folder_path):\n",
    "    for file in files:\n",
    "        if file.endswith('.md'):\n",
    "            file_path = os.path.join(root, file)\n",
    "            update_markdown_links(file_path)\n",
    "\n",
    "print(\"Đã cập nhật xong các link trong các file Markdown.\")\n"
   ]
  }
 ],
 "metadata": {
  "kernelspec": {
   "display_name": "Python 3",
   "language": "python",
   "name": "python3"
  },
  "language_info": {
   "codemirror_mode": {
    "name": "ipython",
    "version": 3
   },
   "file_extension": ".py",
   "mimetype": "text/x-python",
   "name": "python",
   "nbconvert_exporter": "python",
   "pygments_lexer": "ipython3",
   "version": "3.11.6"
  }
 },
 "nbformat": 4,
 "nbformat_minor": 2
}
